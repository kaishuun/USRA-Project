{
 "cells": [
  {
   "cell_type": "code",
   "execution_count": 5,
   "metadata": {},
   "outputs": [],
   "source": [
    "from selenium import webdriver\n"
   ]
  },
  {
   "cell_type": "code",
   "execution_count": 7,
   "metadata": {},
   "outputs": [],
   "source": [
    "url = \"https://youtu.be/BHLBaOASC74\"\n",
    "driver = webdriver.Chrome()\n",
    "driver.get(url)"
   ]
  },
  {
   "cell_type": "code",
   "execution_count": null,
   "metadata": {},
   "outputs": [],
   "source": [
    "#//*[@id=\"container\"]/h1/yt-formatted-string #current video title\n",
    "#//*[@id=\"count\"]/yt-view-count-renderer/span[2] #current views\n",
    "#document.querySelector(\"#text\") #likes\n",
    "#//*[@id=\"text\"] #dislikes\n",
    "#//*[@id=\"date\"]/yt-formatted-string #posted date\n",
    "#//*[@id=\"text\"]/a #current channel\n",
    "#//*[@id=\"video-title\"] #next title\n",
    "#//*[@id=\"text\"] #next channel\n",
    "#//*[@id=\"metadata-line\"]/span[1] #next views\n",
    "#//*[@id=\"metadata-line\"]/span[2] #next posted ago\n",
    "\n",
    "videos = driver.find_elements_by_class_name(\"style-scope ytd-watch-next-secondary-results-renderer\")\n",
    "for vid in videos:\n",
    "    next_title = vid.find_element_by_xpath('.//*[@id=\"video-title\"]')\n",
    "    next_views = vid.find_element_byxpath('.//*[@id=\"metadata-line\"]/span[1]')"
   ]
  },
  {
   "cell_type": "code",
   "execution_count": null,
   "metadata": {},
   "outputs": [],
   "source": []
  },
  {
   "cell_type": "code",
   "execution_count": null,
   "metadata": {},
   "outputs": [],
   "source": []
  },
  {
   "cell_type": "code",
   "execution_count": null,
   "metadata": {},
   "outputs": [],
   "source": []
  },
  {
   "cell_type": "code",
   "execution_count": null,
   "metadata": {},
   "outputs": [],
   "source": []
  },
  {
   "cell_type": "code",
   "execution_count": null,
   "metadata": {},
   "outputs": [],
   "source": []
  }
 ],
 "metadata": {
  "kernelspec": {
   "display_name": "Python 3",
   "language": "python",
   "name": "python3"
  },
  "language_info": {
   "codemirror_mode": {
    "name": "ipython",
    "version": 3
   },
   "file_extension": ".py",
   "mimetype": "text/x-python",
   "name": "python",
   "nbconvert_exporter": "python",
   "pygments_lexer": "ipython3",
   "version": "3.7.6"
  }
 },
 "nbformat": 4,
 "nbformat_minor": 4
}
