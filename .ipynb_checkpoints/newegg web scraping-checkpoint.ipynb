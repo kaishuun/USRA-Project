{
 "cells": [
  {
   "cell_type": "code",
   "execution_count": 1,
   "metadata": {},
   "outputs": [],
   "source": [
    "from bs4 import BeautifulSoup as soup\n",
    "from urllib.request import urlopen as ureq\n",
    "import pandas as pd"
   ]
  },
  {
   "cell_type": "code",
   "execution_count": 2,
   "metadata": {},
   "outputs": [
    {
     "data": {
      "text/plain": [
       "31"
      ]
     },
     "execution_count": 2,
     "metadata": {},
     "output_type": "execute_result"
    }
   ],
   "source": [
    "filename = \"products.csv\"\n",
    "f = open(filename,\"w\")\n",
    "headers = \"product_name, brand, shipping \\n\"\n",
    "f.write(headers)"
   ]
  },
  {
   "cell_type": "code",
   "execution_count": 3,
   "metadata": {},
   "outputs": [],
   "source": [
    "#gathers the html from the url\n",
    "my_url = \"https://www.newegg.ca/Video-Cards-Video-Devices/Category/ID-38?Tpk=graphics%20cards\"\n",
    "uclient = ureq(my_url)\n",
    "page_html = uclient.read()\n",
    "uclient.close()"
   ]
  },
  {
   "cell_type": "code",
   "execution_count": 4,
   "metadata": {},
   "outputs": [
    {
     "data": {
      "text/plain": [
       "<h1 class=\"page-title-text\">Video Cards &amp; Video Devices</h1>"
      ]
     },
     "execution_count": 4,
     "metadata": {},
     "output_type": "execute_result"
    }
   ],
   "source": [
    "#beautifies the html into a soup format soup(data, datatype)\n",
    "page_soup = soup(page_html, \"html.parser\")\n",
    "\n",
    "#outputs the header using . accesses subsections within the html code\n",
    "page_soup.h1"
   ]
  },
  {
   "cell_type": "code",
   "execution_count": 5,
   "metadata": {},
   "outputs": [],
   "source": [
    "#graphics card info is held under an div class = \"item container\"\n",
    "#to get all the info for each one we do findAll(Data type, {type: name}\")\n",
    "\n",
    "#grabs each product\n",
    "containers = page_soup.findAll(\"div\",{\"class\":\"item-container\"})"
   ]
  },
  {
   "cell_type": "code",
   "execution_count": 6,
   "metadata": {},
   "outputs": [
    {
     "data": {
      "text/plain": [
       "9"
      ]
     },
     "execution_count": 6,
     "metadata": {},
     "output_type": "execute_result"
    }
   ],
   "source": [
    "#number of graphics cards\n",
    "len(containers)\n",
    "#the first graphic card\n",
    "#containers[0]"
   ]
  },
  {
   "cell_type": "code",
   "execution_count": 8,
   "metadata": {},
   "outputs": [],
   "source": [
    "for container in containers:\n",
    "    name = container.a.img[\"title\"]\n",
    "    brand = container.findAll(\"div\",{\"class\":\"item-branding\"})[0].img[\"alt\"]\n",
    "    shipping = container.findAll(\"li\",{\"class\":\"price-ship\"})[0].text.strip()\n",
    "    f.write(name.replace(\",\",\"|\") + \",\" + brand + \",\" + shipping + \"\\n\")\n",
    "f.close()"
   ]
  },
  {
   "cell_type": "code",
   "execution_count": null,
   "metadata": {},
   "outputs": [],
   "source": [
    "#testing\n",
    "#ontainer = containers[0]\n",
    "#ame = container.a.img[\"title\"]\n",
    "#rand = container.findAll(\"div\",{\"class\":\"item-branding\"})[0].img[\"alt\"]\n",
    "#hipping = container.findAll(\"li\",{\"class\":\"price-ship\"})[0].text.strip()\n",
    "#hipping"
   ]
  },
  {
   "cell_type": "code",
   "execution_count": null,
   "metadata": {},
   "outputs": [],
   "source": []
  }
 ],
 "metadata": {
  "kernelspec": {
   "display_name": "Python 3",
   "language": "python",
   "name": "python3"
  },
  "language_info": {
   "codemirror_mode": {
    "name": "ipython",
    "version": 3
   },
   "file_extension": ".py",
   "mimetype": "text/x-python",
   "name": "python",
   "nbconvert_exporter": "python",
   "pygments_lexer": "ipython3",
   "version": "3.7.6"
  }
 },
 "nbformat": 4,
 "nbformat_minor": 4
}
