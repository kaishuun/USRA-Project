{
 "cells": [
  {
   "cell_type": "code",
   "execution_count": 2,
   "metadata": {},
   "outputs": [],
   "source": [
    "library(tidyverse)"
   ]
  },
  {
   "cell_type": "code",
   "execution_count": 51,
   "metadata": {},
   "outputs": [
    {
     "name": "stderr",
     "output_type": "stream",
     "text": [
      "Warning message:\n",
      "\"Missing column names filled in: 'X1' [1]\""
     ]
    },
    {
     "data": {
      "text/html": [
       "<table>\n",
       "<thead><tr><th scope=col>Category</th><th scope=col>Current Channel</th><th scope=col>Current Video</th><th scope=col>Current Views</th><th scope=col>Next Channel</th><th scope=col>Amount</th><th scope=col>CHANNEL_TITLE</th><th scope=col>Next Category</th></tr></thead>\n",
       "<tbody>\n",
       "\t<tr><td>PartisanRight             </td><td>Michael Knowles           </td><td>Too Few Problems | Ep. 549</td><td>10897                     </td><td>Michael Knowles           </td><td>4                         </td><td>Michael Knowles           </td><td>ReligiousConservative     </td></tr>\n",
       "\t<tr><td>PartisanRight             </td><td>Michael Knowles           </td><td>Too Few Problems | Ep. 549</td><td>10897                     </td><td>Lewis Howes               </td><td>1                         </td><td>NA                        </td><td>NA                        </td></tr>\n",
       "\t<tr><td>PartisanRight             </td><td>Michael Knowles           </td><td>Too Few Problems | Ep. 549</td><td>10897                     </td><td>PatrickCoffin.media       </td><td>1                         </td><td>NA                        </td><td>NA                        </td></tr>\n",
       "\t<tr><td>PartisanRight             </td><td>Michael Knowles           </td><td>Too Few Problems | Ep. 549</td><td>10897                     </td><td>YAFTV                     </td><td>2                         </td><td>YAFTV                     </td><td>AntiSJW                   </td></tr>\n",
       "\t<tr><td>PartisanRight             </td><td>Michael Knowles           </td><td>Too Few Problems | Ep. 549</td><td>10897                     </td><td>HooverInstitution         </td><td>1                         </td><td>HooverInstitution         </td><td>Libertarian               </td></tr>\n",
       "\t<tr><td>PartisanRight             </td><td>Michael Knowles           </td><td>Too Few Problems | Ep. 549</td><td>10897                     </td><td>The New School            </td><td>1                         </td><td>NA                        </td><td>NA                        </td></tr>\n",
       "</tbody>\n",
       "</table>\n"
      ],
      "text/latex": [
       "\\begin{tabular}{r|llllllll}\n",
       " Category & Current Channel & Current Video & Current Views & Next Channel & Amount & CHANNEL\\_TITLE & Next Category\\\\\n",
       "\\hline\n",
       "\t PartisanRight                        & Michael Knowles                      & Too Few Problems \\textbar{} Ep. 549 & 10897                                & Michael Knowles                      & 4                                    & Michael Knowles                      & ReligiousConservative               \\\\\n",
       "\t PartisanRight                        & Michael Knowles                      & Too Few Problems \\textbar{} Ep. 549 & 10897                                & Lewis Howes                          & 1                                    & NA                                   & NA                                  \\\\\n",
       "\t PartisanRight                        & Michael Knowles                      & Too Few Problems \\textbar{} Ep. 549 & 10897                                & PatrickCoffin.media                  & 1                                    & NA                                   & NA                                  \\\\\n",
       "\t PartisanRight                        & Michael Knowles                      & Too Few Problems \\textbar{} Ep. 549 & 10897                                & YAFTV                                & 2                                    & YAFTV                                & AntiSJW                             \\\\\n",
       "\t PartisanRight                        & Michael Knowles                      & Too Few Problems \\textbar{} Ep. 549 & 10897                                & HooverInstitution                    & 1                                    & HooverInstitution                    & Libertarian                         \\\\\n",
       "\t PartisanRight                        & Michael Knowles                      & Too Few Problems \\textbar{} Ep. 549 & 10897                                & The New School                       & 1                                    & NA                                   & NA                                  \\\\\n",
       "\\end{tabular}\n"
      ],
      "text/markdown": [
       "\n",
       "| Category | Current Channel | Current Video | Current Views | Next Channel | Amount | CHANNEL_TITLE | Next Category |\n",
       "|---|---|---|---|---|---|---|---|\n",
       "| PartisanRight              | Michael Knowles            | Too Few Problems | Ep. 549 | 10897                      | Michael Knowles            | 4                          | Michael Knowles            | ReligiousConservative      |\n",
       "| PartisanRight              | Michael Knowles            | Too Few Problems | Ep. 549 | 10897                      | Lewis Howes                | 1                          | NA                         | NA                         |\n",
       "| PartisanRight              | Michael Knowles            | Too Few Problems | Ep. 549 | 10897                      | PatrickCoffin.media        | 1                          | NA                         | NA                         |\n",
       "| PartisanRight              | Michael Knowles            | Too Few Problems | Ep. 549 | 10897                      | YAFTV                      | 2                          | YAFTV                      | AntiSJW                    |\n",
       "| PartisanRight              | Michael Knowles            | Too Few Problems | Ep. 549 | 10897                      | HooverInstitution          | 1                          | HooverInstitution          | Libertarian                |\n",
       "| PartisanRight              | Michael Knowles            | Too Few Problems | Ep. 549 | 10897                      | The New School             | 1                          | NA                         | NA                         |\n",
       "\n"
      ],
      "text/plain": [
       "  Category      Current Channel Current Video              Current Views\n",
       "1 PartisanRight Michael Knowles Too Few Problems | Ep. 549 10897        \n",
       "2 PartisanRight Michael Knowles Too Few Problems | Ep. 549 10897        \n",
       "3 PartisanRight Michael Knowles Too Few Problems | Ep. 549 10897        \n",
       "4 PartisanRight Michael Knowles Too Few Problems | Ep. 549 10897        \n",
       "5 PartisanRight Michael Knowles Too Few Problems | Ep. 549 10897        \n",
       "6 PartisanRight Michael Knowles Too Few Problems | Ep. 549 10897        \n",
       "  Next Channel        Amount CHANNEL_TITLE     Next Category        \n",
       "1 Michael Knowles     4      Michael Knowles   ReligiousConservative\n",
       "2 Lewis Howes         1      NA                NA                   \n",
       "3 PatrickCoffin.media 1      NA                NA                   \n",
       "4 YAFTV               2      YAFTV             AntiSJW              \n",
       "5 HooverInstitution   1      HooverInstitution Libertarian          \n",
       "6 The New School      1      NA                NA                   "
      ]
     },
     "metadata": {},
     "output_type": "display_data"
    }
   ],
   "source": [
    "#sets up the nessesary categories\n",
    "df <- read_csv(\"Combined Probability.csv\", col_types = cols(`X1` = col_double(),Category = col_factor(), `Current Channel` = col_factor(), `Current Video` = col_factor(), `Current Views` = col_double(),`Next Channel` = col_character(), Amount = col_double(), CHANNEL_TITLE = col_factor(), `Next Category` = col_factor()))%>%\n",
    "select(-`X1`)\n",
    "#df <- df %>% select(Category,Current.Views,Amount,Next.Category)\n",
    "head(df)"
   ]
  },
  {
   "cell_type": "code",
   "execution_count": 52,
   "metadata": {},
   "outputs": [
    {
     "data": {
      "text/html": [
       "<table>\n",
       "<thead><tr><th scope=col>Category</th><th scope=col>Impressions Available</th></tr></thead>\n",
       "<tbody>\n",
       "\t<tr><td>LateNightTalkShow    </td><td>1330328599           </td></tr>\n",
       "\t<tr><td>Educational          </td><td> 235156052           </td></tr>\n",
       "\t<tr><td>PartisanLeft         </td><td> 206461828           </td></tr>\n",
       "\t<tr><td>SocialJustice        </td><td> 176994185           </td></tr>\n",
       "\t<tr><td>AntiSJW              </td><td>  75884211           </td></tr>\n",
       "\t<tr><td>ManoelAltLite        </td><td>  74802106           </td></tr>\n",
       "\t<tr><td>Mainstream News      </td><td>  64696505           </td></tr>\n",
       "\t<tr><td>Provocateur          </td><td>  45005255           </td></tr>\n",
       "\t<tr><td>AntiTheist           </td><td>  44713369           </td></tr>\n",
       "\t<tr><td>MissingLinkMedia     </td><td>  39335260           </td></tr>\n",
       "\t<tr><td>PartisanRight        </td><td>  33611142           </td></tr>\n",
       "\t<tr><td>Socialist            </td><td>  33595892           </td></tr>\n",
       "\t<tr><td>Libertarian          </td><td>  33445129           </td></tr>\n",
       "\t<tr><td>WhiteIdentitarian    </td><td>  28837316           </td></tr>\n",
       "\t<tr><td>ManoelAltRight       </td><td>  26430586           </td></tr>\n",
       "\t<tr><td>ReligiousConservative</td><td>  25590711           </td></tr>\n",
       "\t<tr><td>AntiWhiteness        </td><td>  18769561           </td></tr>\n",
       "\t<tr><td>Conspiracy           </td><td>  17011089           </td></tr>\n",
       "\t<tr><td>MRA                  </td><td>  10059411           </td></tr>\n",
       "\t<tr><td>StateFunded          </td><td>   9393600           </td></tr>\n",
       "</tbody>\n",
       "</table>\n"
      ],
      "text/latex": [
       "\\begin{tabular}{r|ll}\n",
       " Category & Impressions Available\\\\\n",
       "\\hline\n",
       "\t LateNightTalkShow     & 1330328599           \\\\\n",
       "\t Educational           &  235156052           \\\\\n",
       "\t PartisanLeft          &  206461828           \\\\\n",
       "\t SocialJustice         &  176994185           \\\\\n",
       "\t AntiSJW               &   75884211           \\\\\n",
       "\t ManoelAltLite         &   74802106           \\\\\n",
       "\t Mainstream News       &   64696505           \\\\\n",
       "\t Provocateur           &   45005255           \\\\\n",
       "\t AntiTheist            &   44713369           \\\\\n",
       "\t MissingLinkMedia      &   39335260           \\\\\n",
       "\t PartisanRight         &   33611142           \\\\\n",
       "\t Socialist             &   33595892           \\\\\n",
       "\t Libertarian           &   33445129           \\\\\n",
       "\t WhiteIdentitarian     &   28837316           \\\\\n",
       "\t ManoelAltRight        &   26430586           \\\\\n",
       "\t ReligiousConservative &   25590711           \\\\\n",
       "\t AntiWhiteness         &   18769561           \\\\\n",
       "\t Conspiracy            &   17011089           \\\\\n",
       "\t MRA                   &   10059411           \\\\\n",
       "\t StateFunded           &    9393600           \\\\\n",
       "\\end{tabular}\n"
      ],
      "text/markdown": [
       "\n",
       "| Category | Impressions Available |\n",
       "|---|---|\n",
       "| LateNightTalkShow     | 1330328599            |\n",
       "| Educational           |  235156052            |\n",
       "| PartisanLeft          |  206461828            |\n",
       "| SocialJustice         |  176994185            |\n",
       "| AntiSJW               |   75884211            |\n",
       "| ManoelAltLite         |   74802106            |\n",
       "| Mainstream News       |   64696505            |\n",
       "| Provocateur           |   45005255            |\n",
       "| AntiTheist            |   44713369            |\n",
       "| MissingLinkMedia      |   39335260            |\n",
       "| PartisanRight         |   33611142            |\n",
       "| Socialist             |   33595892            |\n",
       "| Libertarian           |   33445129            |\n",
       "| WhiteIdentitarian     |   28837316            |\n",
       "| ManoelAltRight        |   26430586            |\n",
       "| ReligiousConservative |   25590711            |\n",
       "| AntiWhiteness         |   18769561            |\n",
       "| Conspiracy            |   17011089            |\n",
       "| MRA                   |   10059411            |\n",
       "| StateFunded           |    9393600            |\n",
       "\n"
      ],
      "text/plain": [
       "   Category              Impressions Available\n",
       "1  LateNightTalkShow     1330328599           \n",
       "2  Educational            235156052           \n",
       "3  PartisanLeft           206461828           \n",
       "4  SocialJustice          176994185           \n",
       "5  AntiSJW                 75884211           \n",
       "6  ManoelAltLite           74802106           \n",
       "7  Mainstream News         64696505           \n",
       "8  Provocateur             45005255           \n",
       "9  AntiTheist              44713369           \n",
       "10 MissingLinkMedia        39335260           \n",
       "11 PartisanRight           33611142           \n",
       "12 Socialist               33595892           \n",
       "13 Libertarian             33445129           \n",
       "14 WhiteIdentitarian       28837316           \n",
       "15 ManoelAltRight          26430586           \n",
       "16 ReligiousConservative   25590711           \n",
       "17 AntiWhiteness           18769561           \n",
       "18 Conspiracy              17011089           \n",
       "19 MRA                     10059411           \n",
       "20 StateFunded              9393600           "
      ]
     },
     "metadata": {},
     "output_type": "display_data"
    }
   ],
   "source": [
    "df %>% filter( !is.na(`Next Category`)) %>% mutate(Impressions = `Current Views`*Amount) %>%\n",
    "group_by(Category) %>% summarize(`Impressions Available`= sum(Impressions)) %>% arrange(desc(`Impressions Available`))"
   ]
  },
  {
   "cell_type": "code",
   "execution_count": 74,
   "metadata": {},
   "outputs": [
    {
     "data": {
      "text/html": [
       "<table>\n",
       "<thead><tr><th scope=col>Category</th><th scope=col>Next Category</th><th scope=col>Max Impressions</th></tr></thead>\n",
       "<tbody>\n",
       "\t<tr><td>Educational          </td><td>MissingLinkMedia     </td><td>48556521             </td></tr>\n",
       "\t<tr><td>AntiSJW              </td><td>AntiSJW              </td><td>23230095             </td></tr>\n",
       "\t<tr><td>ManoelAltLite        </td><td>PartisanRight        </td><td>10106264             </td></tr>\n",
       "\t<tr><td>MissingLinkMedia     </td><td>MissingLinkMedia     </td><td>10062279             </td></tr>\n",
       "\t<tr><td>Mainstream News      </td><td>Mainstream News      </td><td> 9313005             </td></tr>\n",
       "\t<tr><td>Socialist            </td><td>SocialJustice        </td><td> 6098045             </td></tr>\n",
       "\t<tr><td>PartisanRight        </td><td>PartisanRight        </td><td> 5593840             </td></tr>\n",
       "\t<tr><td>AntiTheist           </td><td>AntiTheist           </td><td> 4950715             </td></tr>\n",
       "\t<tr><td>ManoelAltRight       </td><td>AntiSJW              </td><td> 3590656             </td></tr>\n",
       "\t<tr><td>Libertarian          </td><td>PartisanRight        </td><td> 3195620             </td></tr>\n",
       "\t<tr><td>ReligiousConservative</td><td>Libertarian          </td><td> 2531782             </td></tr>\n",
       "\t<tr><td>WhiteIdentitarian    </td><td>Libertarian          </td><td> 1326668             </td></tr>\n",
       "\t<tr><td>AntiWhiteness        </td><td>AntiWhiteness        </td><td> 1265802             </td></tr>\n",
       "\t<tr><td>Provocateur          </td><td>AntiSJW              </td><td> 1214856             </td></tr>\n",
       "\t<tr><td>Conspiracy           </td><td>PartisanRight        </td><td> 1165843             </td></tr>\n",
       "\t<tr><td>MRA                  </td><td>AntiSJW              </td><td>  860295             </td></tr>\n",
       "\t<tr><td>StateFunded          </td><td>StateFunded          </td><td>  376527             </td></tr>\n",
       "</tbody>\n",
       "</table>\n"
      ],
      "text/latex": [
       "\\begin{tabular}{r|lll}\n",
       " Category & Next Category & Max Impressions\\\\\n",
       "\\hline\n",
       "\t Educational           & MissingLinkMedia      & 48556521             \\\\\n",
       "\t AntiSJW               & AntiSJW               & 23230095             \\\\\n",
       "\t ManoelAltLite         & PartisanRight         & 10106264             \\\\\n",
       "\t MissingLinkMedia      & MissingLinkMedia      & 10062279             \\\\\n",
       "\t Mainstream News       & Mainstream News       &  9313005             \\\\\n",
       "\t Socialist             & SocialJustice         &  6098045             \\\\\n",
       "\t PartisanRight         & PartisanRight         &  5593840             \\\\\n",
       "\t AntiTheist            & AntiTheist            &  4950715             \\\\\n",
       "\t ManoelAltRight        & AntiSJW               &  3590656             \\\\\n",
       "\t Libertarian           & PartisanRight         &  3195620             \\\\\n",
       "\t ReligiousConservative & Libertarian           &  2531782             \\\\\n",
       "\t WhiteIdentitarian     & Libertarian           &  1326668             \\\\\n",
       "\t AntiWhiteness         & AntiWhiteness         &  1265802             \\\\\n",
       "\t Provocateur           & AntiSJW               &  1214856             \\\\\n",
       "\t Conspiracy            & PartisanRight         &  1165843             \\\\\n",
       "\t MRA                   & AntiSJW               &   860295             \\\\\n",
       "\t StateFunded           & StateFunded           &   376527             \\\\\n",
       "\\end{tabular}\n"
      ],
      "text/markdown": [
       "\n",
       "| Category | Next Category | Max Impressions |\n",
       "|---|---|---|\n",
       "| Educational           | MissingLinkMedia      | 48556521              |\n",
       "| AntiSJW               | AntiSJW               | 23230095              |\n",
       "| ManoelAltLite         | PartisanRight         | 10106264              |\n",
       "| MissingLinkMedia      | MissingLinkMedia      | 10062279              |\n",
       "| Mainstream News       | Mainstream News       |  9313005              |\n",
       "| Socialist             | SocialJustice         |  6098045              |\n",
       "| PartisanRight         | PartisanRight         |  5593840              |\n",
       "| AntiTheist            | AntiTheist            |  4950715              |\n",
       "| ManoelAltRight        | AntiSJW               |  3590656              |\n",
       "| Libertarian           | PartisanRight         |  3195620              |\n",
       "| ReligiousConservative | Libertarian           |  2531782              |\n",
       "| WhiteIdentitarian     | Libertarian           |  1326668              |\n",
       "| AntiWhiteness         | AntiWhiteness         |  1265802              |\n",
       "| Provocateur           | AntiSJW               |  1214856              |\n",
       "| Conspiracy            | PartisanRight         |  1165843              |\n",
       "| MRA                   | AntiSJW               |   860295              |\n",
       "| StateFunded           | StateFunded           |   376527              |\n",
       "\n"
      ],
      "text/plain": [
       "   Category              Next Category    Max Impressions\n",
       "1  Educational           MissingLinkMedia 48556521       \n",
       "2  AntiSJW               AntiSJW          23230095       \n",
       "3  ManoelAltLite         PartisanRight    10106264       \n",
       "4  MissingLinkMedia      MissingLinkMedia 10062279       \n",
       "5  Mainstream News       Mainstream News   9313005       \n",
       "6  Socialist             SocialJustice     6098045       \n",
       "7  PartisanRight         PartisanRight     5593840       \n",
       "8  AntiTheist            AntiTheist        4950715       \n",
       "9  ManoelAltRight        AntiSJW           3590656       \n",
       "10 Libertarian           PartisanRight     3195620       \n",
       "11 ReligiousConservative Libertarian       2531782       \n",
       "12 WhiteIdentitarian     Libertarian       1326668       \n",
       "13 AntiWhiteness         AntiWhiteness     1265802       \n",
       "14 Provocateur           AntiSJW           1214856       \n",
       "15 Conspiracy            PartisanRight     1165843       \n",
       "16 MRA                   AntiSJW            860295       \n",
       "17 StateFunded           StateFunded        376527       "
      ]
     },
     "metadata": {},
     "output_type": "display_data"
    }
   ],
   "source": [
    "#What do each Category send their most impressions to\n",
    "df %>% filter(!is.na(`Next Category`)) %>% mutate(Impressions = `Current Views` * Amount) %>%\n",
    "group_by(Category) %>% filter(Impressions == max(Impressions), Category != \"LateNightTalkShow\",`Next Category` != \"LateNightTalkShow\") %>% \n",
    "select(Category, `Next Category`,`Impressions`) %>% arrange(desc(Impressions)) %>% rename(\"Max Impressions\" = \"Impressions\")"
   ]
  },
  {
   "cell_type": "code",
   "execution_count": 75,
   "metadata": {},
   "outputs": [
    {
     "data": {
      "text/html": [
       "<table>\n",
       "<thead><tr><th scope=col>Category</th><th scope=col>Next Category</th><th scope=col>Min Impressions</th></tr></thead>\n",
       "<tbody>\n",
       "\t<tr><td>AntiWhiteness        </td><td>AntiWhiteness        </td><td>4616                 </td></tr>\n",
       "\t<tr><td>AntiWhiteness        </td><td>PartisanLeft         </td><td>4616                 </td></tr>\n",
       "\t<tr><td>AntiWhiteness        </td><td>SocialJustice        </td><td>4616                 </td></tr>\n",
       "\t<tr><td>MRA                  </td><td>MRA                  </td><td> 686                 </td></tr>\n",
       "\t<tr><td>Provocateur          </td><td>PartisanRight        </td><td> 606                 </td></tr>\n",
       "\t<tr><td>Provocateur          </td><td>Libertarian          </td><td> 606                 </td></tr>\n",
       "\t<tr><td>ManoelAltRight       </td><td>AntiSJW              </td><td> 553                 </td></tr>\n",
       "\t<tr><td>ManoelAltRight       </td><td>PartisanRight        </td><td> 553                 </td></tr>\n",
       "\t<tr><td>Conspiracy           </td><td>Conspiracy           </td><td> 377                 </td></tr>\n",
       "\t<tr><td>WhiteIdentitarian    </td><td>PartisanRight        </td><td> 237                 </td></tr>\n",
       "\t<tr><td>ManoelAltLite        </td><td>PartisanRight        </td><td> 219                 </td></tr>\n",
       "\t<tr><td>ManoelAltLite        </td><td>Mainstream News      </td><td> 219                 </td></tr>\n",
       "\t<tr><td>ManoelAltLite        </td><td>PartisanLeft         </td><td> 219                 </td></tr>\n",
       "\t<tr><td>AntiTheist           </td><td>AntiTheist           </td><td> 217                 </td></tr>\n",
       "\t<tr><td>AntiTheist           </td><td>PartisanLeft         </td><td> 217                 </td></tr>\n",
       "\t<tr><td>AntiTheist           </td><td>Educational          </td><td> 217                 </td></tr>\n",
       "\t<tr><td>AntiTheist           </td><td>AntiWhiteness        </td><td> 217                 </td></tr>\n",
       "\t<tr><td>AntiTheist           </td><td>PartisanLeft         </td><td> 217                 </td></tr>\n",
       "\t<tr><td>PartisanRight        </td><td>PartisanRight        </td><td> 214                 </td></tr>\n",
       "\t<tr><td>AntiSJW              </td><td>AntiTheist           </td><td> 191                 </td></tr>\n",
       "\t<tr><td>AntiSJW              </td><td>PartisanRight        </td><td> 191                 </td></tr>\n",
       "\t<tr><td>Socialist            </td><td>StateFunded          </td><td> 153                 </td></tr>\n",
       "\t<tr><td>Educational          </td><td>Educational          </td><td> 142                 </td></tr>\n",
       "\t<tr><td>Educational          </td><td>PartisanRight        </td><td> 142                 </td></tr>\n",
       "\t<tr><td>Educational          </td><td>StateFunded          </td><td> 142                 </td></tr>\n",
       "\t<tr><td>Educational          </td><td>PartisanLeft         </td><td> 142                 </td></tr>\n",
       "\t<tr><td>Educational          </td><td>AntiTheist           </td><td> 142                 </td></tr>\n",
       "\t<tr><td>StateFunded          </td><td>Mainstream News      </td><td> 137                 </td></tr>\n",
       "\t<tr><td>StateFunded          </td><td>StateFunded          </td><td> 137                 </td></tr>\n",
       "\t<tr><td>StateFunded          </td><td>PartisanLeft         </td><td> 137                 </td></tr>\n",
       "\t<tr><td>ReligiousConservative</td><td>ReligiousConservative</td><td> 117                 </td></tr>\n",
       "\t<tr><td>ReligiousConservative</td><td>Libertarian          </td><td> 117                 </td></tr>\n",
       "\t<tr><td>Libertarian          </td><td>PartisanLeft         </td><td>  93                 </td></tr>\n",
       "\t<tr><td>Libertarian          </td><td>AntiSJW              </td><td>  93                 </td></tr>\n",
       "\t<tr><td>Libertarian          </td><td>PartisanRight        </td><td>  93                 </td></tr>\n",
       "\t<tr><td>PartisanLeft         </td><td>PartisanLeft         </td><td>  83                 </td></tr>\n",
       "\t<tr><td>SocialJustice        </td><td>PartisanLeft         </td><td>  42                 </td></tr>\n",
       "\t<tr><td>SocialJustice        </td><td>StateFunded          </td><td>  42                 </td></tr>\n",
       "\t<tr><td>Mainstream News      </td><td>StateFunded          </td><td>  40                 </td></tr>\n",
       "\t<tr><td>Mainstream News      </td><td>PartisanRight        </td><td>  40                 </td></tr>\n",
       "\t<tr><td>Mainstream News      </td><td>PartisanLeft         </td><td>  40                 </td></tr>\n",
       "\t<tr><td>MissingLinkMedia     </td><td>MissingLinkMedia     </td><td>  22                 </td></tr>\n",
       "\t<tr><td>MissingLinkMedia     </td><td>Libertarian          </td><td>  22                 </td></tr>\n",
       "\t<tr><td>MissingLinkMedia     </td><td>PartisanLeft         </td><td>  22                 </td></tr>\n",
       "</tbody>\n",
       "</table>\n"
      ],
      "text/latex": [
       "\\begin{tabular}{r|lll}\n",
       " Category & Next Category & Min Impressions\\\\\n",
       "\\hline\n",
       "\t AntiWhiteness         & AntiWhiteness         & 4616                 \\\\\n",
       "\t AntiWhiteness         & PartisanLeft          & 4616                 \\\\\n",
       "\t AntiWhiteness         & SocialJustice         & 4616                 \\\\\n",
       "\t MRA                   & MRA                   &  686                 \\\\\n",
       "\t Provocateur           & PartisanRight         &  606                 \\\\\n",
       "\t Provocateur           & Libertarian           &  606                 \\\\\n",
       "\t ManoelAltRight        & AntiSJW               &  553                 \\\\\n",
       "\t ManoelAltRight        & PartisanRight         &  553                 \\\\\n",
       "\t Conspiracy            & Conspiracy            &  377                 \\\\\n",
       "\t WhiteIdentitarian     & PartisanRight         &  237                 \\\\\n",
       "\t ManoelAltLite         & PartisanRight         &  219                 \\\\\n",
       "\t ManoelAltLite         & Mainstream News       &  219                 \\\\\n",
       "\t ManoelAltLite         & PartisanLeft          &  219                 \\\\\n",
       "\t AntiTheist            & AntiTheist            &  217                 \\\\\n",
       "\t AntiTheist            & PartisanLeft          &  217                 \\\\\n",
       "\t AntiTheist            & Educational           &  217                 \\\\\n",
       "\t AntiTheist            & AntiWhiteness         &  217                 \\\\\n",
       "\t AntiTheist            & PartisanLeft          &  217                 \\\\\n",
       "\t PartisanRight         & PartisanRight         &  214                 \\\\\n",
       "\t AntiSJW               & AntiTheist            &  191                 \\\\\n",
       "\t AntiSJW               & PartisanRight         &  191                 \\\\\n",
       "\t Socialist             & StateFunded           &  153                 \\\\\n",
       "\t Educational           & Educational           &  142                 \\\\\n",
       "\t Educational           & PartisanRight         &  142                 \\\\\n",
       "\t Educational           & StateFunded           &  142                 \\\\\n",
       "\t Educational           & PartisanLeft          &  142                 \\\\\n",
       "\t Educational           & AntiTheist            &  142                 \\\\\n",
       "\t StateFunded           & Mainstream News       &  137                 \\\\\n",
       "\t StateFunded           & StateFunded           &  137                 \\\\\n",
       "\t StateFunded           & PartisanLeft          &  137                 \\\\\n",
       "\t ReligiousConservative & ReligiousConservative &  117                 \\\\\n",
       "\t ReligiousConservative & Libertarian           &  117                 \\\\\n",
       "\t Libertarian           & PartisanLeft          &   93                 \\\\\n",
       "\t Libertarian           & AntiSJW               &   93                 \\\\\n",
       "\t Libertarian           & PartisanRight         &   93                 \\\\\n",
       "\t PartisanLeft          & PartisanLeft          &   83                 \\\\\n",
       "\t SocialJustice         & PartisanLeft          &   42                 \\\\\n",
       "\t SocialJustice         & StateFunded           &   42                 \\\\\n",
       "\t Mainstream News       & StateFunded           &   40                 \\\\\n",
       "\t Mainstream News       & PartisanRight         &   40                 \\\\\n",
       "\t Mainstream News       & PartisanLeft          &   40                 \\\\\n",
       "\t MissingLinkMedia      & MissingLinkMedia      &   22                 \\\\\n",
       "\t MissingLinkMedia      & Libertarian           &   22                 \\\\\n",
       "\t MissingLinkMedia      & PartisanLeft          &   22                 \\\\\n",
       "\\end{tabular}\n"
      ],
      "text/markdown": [
       "\n",
       "| Category | Next Category | Min Impressions |\n",
       "|---|---|---|\n",
       "| AntiWhiteness         | AntiWhiteness         | 4616                  |\n",
       "| AntiWhiteness         | PartisanLeft          | 4616                  |\n",
       "| AntiWhiteness         | SocialJustice         | 4616                  |\n",
       "| MRA                   | MRA                   |  686                  |\n",
       "| Provocateur           | PartisanRight         |  606                  |\n",
       "| Provocateur           | Libertarian           |  606                  |\n",
       "| ManoelAltRight        | AntiSJW               |  553                  |\n",
       "| ManoelAltRight        | PartisanRight         |  553                  |\n",
       "| Conspiracy            | Conspiracy            |  377                  |\n",
       "| WhiteIdentitarian     | PartisanRight         |  237                  |\n",
       "| ManoelAltLite         | PartisanRight         |  219                  |\n",
       "| ManoelAltLite         | Mainstream News       |  219                  |\n",
       "| ManoelAltLite         | PartisanLeft          |  219                  |\n",
       "| AntiTheist            | AntiTheist            |  217                  |\n",
       "| AntiTheist            | PartisanLeft          |  217                  |\n",
       "| AntiTheist            | Educational           |  217                  |\n",
       "| AntiTheist            | AntiWhiteness         |  217                  |\n",
       "| AntiTheist            | PartisanLeft          |  217                  |\n",
       "| PartisanRight         | PartisanRight         |  214                  |\n",
       "| AntiSJW               | AntiTheist            |  191                  |\n",
       "| AntiSJW               | PartisanRight         |  191                  |\n",
       "| Socialist             | StateFunded           |  153                  |\n",
       "| Educational           | Educational           |  142                  |\n",
       "| Educational           | PartisanRight         |  142                  |\n",
       "| Educational           | StateFunded           |  142                  |\n",
       "| Educational           | PartisanLeft          |  142                  |\n",
       "| Educational           | AntiTheist            |  142                  |\n",
       "| StateFunded           | Mainstream News       |  137                  |\n",
       "| StateFunded           | StateFunded           |  137                  |\n",
       "| StateFunded           | PartisanLeft          |  137                  |\n",
       "| ReligiousConservative | ReligiousConservative |  117                  |\n",
       "| ReligiousConservative | Libertarian           |  117                  |\n",
       "| Libertarian           | PartisanLeft          |   93                  |\n",
       "| Libertarian           | AntiSJW               |   93                  |\n",
       "| Libertarian           | PartisanRight         |   93                  |\n",
       "| PartisanLeft          | PartisanLeft          |   83                  |\n",
       "| SocialJustice         | PartisanLeft          |   42                  |\n",
       "| SocialJustice         | StateFunded           |   42                  |\n",
       "| Mainstream News       | StateFunded           |   40                  |\n",
       "| Mainstream News       | PartisanRight         |   40                  |\n",
       "| Mainstream News       | PartisanLeft          |   40                  |\n",
       "| MissingLinkMedia      | MissingLinkMedia      |   22                  |\n",
       "| MissingLinkMedia      | Libertarian           |   22                  |\n",
       "| MissingLinkMedia      | PartisanLeft          |   22                  |\n",
       "\n"
      ],
      "text/plain": [
       "   Category              Next Category         Min Impressions\n",
       "1  AntiWhiteness         AntiWhiteness         4616           \n",
       "2  AntiWhiteness         PartisanLeft          4616           \n",
       "3  AntiWhiteness         SocialJustice         4616           \n",
       "4  MRA                   MRA                    686           \n",
       "5  Provocateur           PartisanRight          606           \n",
       "6  Provocateur           Libertarian            606           \n",
       "7  ManoelAltRight        AntiSJW                553           \n",
       "8  ManoelAltRight        PartisanRight          553           \n",
       "9  Conspiracy            Conspiracy             377           \n",
       "10 WhiteIdentitarian     PartisanRight          237           \n",
       "11 ManoelAltLite         PartisanRight          219           \n",
       "12 ManoelAltLite         Mainstream News        219           \n",
       "13 ManoelAltLite         PartisanLeft           219           \n",
       "14 AntiTheist            AntiTheist             217           \n",
       "15 AntiTheist            PartisanLeft           217           \n",
       "16 AntiTheist            Educational            217           \n",
       "17 AntiTheist            AntiWhiteness          217           \n",
       "18 AntiTheist            PartisanLeft           217           \n",
       "19 PartisanRight         PartisanRight          214           \n",
       "20 AntiSJW               AntiTheist             191           \n",
       "21 AntiSJW               PartisanRight          191           \n",
       "22 Socialist             StateFunded            153           \n",
       "23 Educational           Educational            142           \n",
       "24 Educational           PartisanRight          142           \n",
       "25 Educational           StateFunded            142           \n",
       "26 Educational           PartisanLeft           142           \n",
       "27 Educational           AntiTheist             142           \n",
       "28 StateFunded           Mainstream News        137           \n",
       "29 StateFunded           StateFunded            137           \n",
       "30 StateFunded           PartisanLeft           137           \n",
       "31 ReligiousConservative ReligiousConservative  117           \n",
       "32 ReligiousConservative Libertarian            117           \n",
       "33 Libertarian           PartisanLeft            93           \n",
       "34 Libertarian           AntiSJW                 93           \n",
       "35 Libertarian           PartisanRight           93           \n",
       "36 PartisanLeft          PartisanLeft            83           \n",
       "37 SocialJustice         PartisanLeft            42           \n",
       "38 SocialJustice         StateFunded             42           \n",
       "39 Mainstream News       StateFunded             40           \n",
       "40 Mainstream News       PartisanRight           40           \n",
       "41 Mainstream News       PartisanLeft            40           \n",
       "42 MissingLinkMedia      MissingLinkMedia        22           \n",
       "43 MissingLinkMedia      Libertarian             22           \n",
       "44 MissingLinkMedia      PartisanLeft            22           "
      ]
     },
     "metadata": {},
     "output_type": "display_data"
    }
   ],
   "source": [
    "#What do each Category send their most impressions to\n",
    "df %>% filter(!is.na(`Next Category`)) %>% mutate(Impressions = `Current Views` * Amount) %>%\n",
    "group_by(Category) %>% filter(Impressions == min(Impressions), Category != \"LateNightTalkShow\",`Next Category` != \"LateNightTalkShow\") %>% \n",
    "select(Category, `Next Category`,`Impressions`) %>% arrange(desc(Impressions)) %>% rename(\"Min Impressions\" = \"Impressions\")"
   ]
  },
  {
   "cell_type": "code",
   "execution_count": 91,
   "metadata": {},
   "outputs": [
    {
     "data": {
      "image/png": "[encoded data removed]",
      "text/plain": [
       "plot without title"
      ]
     },
     "metadata": {},
     "output_type": "display_data"
    }
   ],
   "source": [
    "#distribution of views with LateNightTalkShow\n",
    "df %>% group_by(Category,`Current Video`) %>% summarize(views = mean(`Current Views`)) %>%\n",
    "ungroup() %>% ggplot(aes(x= Category, y=views)) + geom_boxplot() + coord_flip() +\n",
    "scale_y_continuous(labels = function(x) format(x, scientific = FALSE))"
   ]
  },
  {
   "cell_type": "code",
   "execution_count": 112,
   "metadata": {},
   "outputs": [
    {
     "data": {
      "image/png": "[encoded data removed]",
      "text/plain": [
       "plot without title"
      ]
     },
     "metadata": {},
     "output_type": "display_data"
    }
   ],
   "source": [
    "df %>%filter(Category != \"LateNightTalkShow\") %>% group_by(Category,`Current Video`) %>% summarize(views = mean(`Current Views`)) %>%\n",
    "ungroup() %>% ggplot(aes(x= Category, y=views)) + geom_boxplot() + coord_flip(ylim = c(10000,1000000)) +\n",
    "scale_y_continuous(labels = function(x) format(x, scientific = FALSE))"
   ]
  },
  {
   "cell_type": "code",
   "execution_count": 115,
   "metadata": {},
   "outputs": [
    {
     "data": {
      "image/png": "[encoded data removed]",
      "text/plain": [
       "plot without title"
      ]
     },
     "metadata": {},
     "output_type": "display_data"
    }
   ],
   "source": [
    "#views under 1 Million\n",
    "df %>% ggplot(aes(x= Category, y = `Current Views`)) + geom_boxplot() + coord_flip(ylim = c(0,1000000)) + scale_y_continuous(labels = function(x) format(x, scientific = FALSE)) + ylab(\"views\")"
   ]
  },
  {
   "cell_type": "code",
   "execution_count": null,
   "metadata": {},
   "outputs": [],
   "source": []
  }
 ],
 "metadata": {
  "kernelspec": {
   "display_name": "R",
   "language": "R",
   "name": "ir"
  },
  "language_info": {
   "codemirror_mode": "r",
   "file_extension": ".r",
   "mimetype": "text/x-r-source",
   "name": "R",
   "pygments_lexer": "r",
   "version": "3.6.1"
  }
 },
 "nbformat": 4,
 "nbformat_minor": 4
}
