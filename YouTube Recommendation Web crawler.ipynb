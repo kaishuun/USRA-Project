{
 "cells": [
  {
   "cell_type": "code",
   "execution_count": 1,
   "metadata": {},
   "outputs": [],
   "source": [
    "from selenium import webdriver\n",
    "import time\n",
    "import pandas as pd\n",
    "import random"
   ]
  },
  {
   "cell_type": "code",
   "execution_count": 2,
   "metadata": {},
   "outputs": [],
   "source": [
    "def scraper(seed, size):\n",
    "    driver = webdriver.Chrome()\n",
    "    df = pd.DataFrame(columns = [\"Current Channel\",\"Current Video\",\"Current Views\",\"Recommended Channel\",\"Recommended Video\",\"Recommended Views\",\"recommended URL\"])\n",
    "    for i in range(size):\n",
    "        #driver.implicitly_wait(5)\n",
    "        driver.get(seed)\n",
    "        driver.maximize_window()\n",
    "        time.sleep(5)    \n",
    "\n",
    "\n",
    "        videos = driver.find_elements_by_class_name(\"style-scope ytd-compact-video-renderer\")\n",
    "\n",
    "        #Gathers the future links\n",
    "        thumbnails = driver.find_elements_by_id(\"thumbnail\")\n",
    "        links = [thumb.get_attribute(\"href\") for thumb in thumbnails]\n",
    "        links.pop()\n",
    "        j = 0\n",
    "        for vid in videos:\n",
    "            #current video analytics\n",
    "            curr_vid = driver.find_element_by_xpath('//*[@id=\"container\"]/h1/yt-formatted-string').text\n",
    "            curr_channel = driver.find_element_by_xpath('//*[@id=\"text\"]/a').text\n",
    "            curr_views = driver.find_element_by_xpath('//*[@id=\"count\"]/yt-view-count-renderer/span[1]').text.replace(\"views\",\"\")\n",
    "\n",
    "            #next video analytics\n",
    "            next_channel = vid.find_element_by_class_name(\"style-scope ytd-channel-name\").text\n",
    "            next_title = vid.find_element_by_xpath('.//*[@id=\"video-title\"]').text\n",
    "            next_views = vid.find_element_by_xpath('.//*[@id=\"metadata-line\"]/span[1]').text.replace(\"views\", \"\")\n",
    "\n",
    "\n",
    "            data = [{\"Current Channel\":curr_channel,\n",
    "                       \"Current Video\":curr_vid,\n",
    "                       \"Current Views\":curr_views,\n",
    "                       \"Recommended Channel\":next_channel,\n",
    "                       \"Recommended Video\":next_title,\n",
    "                       \"Recommended Views\":next_views,\n",
    "                       \"recommended URL\":links[j]}]\n",
    "            j += 1\n",
    "            df = df.append(data,ignore_index=True)\n",
    "\n",
    "        choice = random.choice(range(0,len(links)-1))\n",
    "        seed = links[choice]\n",
    "    driver.quit()\n",
    "    return df"
   ]
  },
  {
   "cell_type": "code",
   "execution_count": 7,
   "metadata": {},
   "outputs": [],
   "source": [
    "url = \"https://youtu.be/BHLBaOASC74\""
   ]
  },
  {
   "cell_type": "code",
   "execution_count": 8,
   "metadata": {},
   "outputs": [],
   "source": [
    "result = scraper(url,3)\n",
    "result.to_csv(\"youtube_crawler\")"
   ]
  }
 ],
 "metadata": {
  "kernelspec": {
   "display_name": "Python 3",
   "language": "python",
   "name": "python3"
  },
  "language_info": {
   "codemirror_mode": {
    "name": "ipython",
    "version": 3
   },
   "file_extension": ".py",
   "mimetype": "text/x-python",
   "name": "python",
   "nbconvert_exporter": "python",
   "pygments_lexer": "ipython3",
   "version": "3.7.6"
  }
 },
 "nbformat": 4,
 "nbformat_minor": 4
}
